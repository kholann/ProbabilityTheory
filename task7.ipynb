{
 "cells": [
  {
   "cell_type": "code",
   "execution_count": 51,
   "metadata": {},
   "outputs": [],
   "source": [
    "import numpy as np"
   ]
  },
  {
   "cell_type": "code",
   "execution_count": 52,
   "metadata": {},
   "outputs": [
    {
     "name": "stdout",
     "output_type": "stream",
     "text": [
      "2.620538882402765\n"
     ]
    }
   ],
   "source": [
    "# 1. Даны значения величины заработной платы заемщиков банка (zp) и значения их поведенческого кредитного скоринга\n",
    "# (ks): zp = [35, 45, 190, 200, 40, 70, 54, 150, 120, 110], ks = [401, 574, 874, 919, 459, 739, 653, 902, 746, 832]. \n",
    "# Используя математические операции, посчитать коэффициенты линейной регрессии, приняв за X заработную плату \n",
    "# (то есть, zp - признак), а за y - значения скорингового балла (то есть, ks - целевая переменная). \n",
    "# Произвести расчет как с использованием intercept, так и без.\n",
    "\n",
    "zp = np.array([35, 45, 190, 200, 40, 70, 54, 150, 120, 110])\n",
    "ks = np.array([401, 574, 874, 919, 459, 739, 653, 902, 746, 832])\n",
    "\n",
    "# с использованием intercept\n",
    "b = (np.mean(zp*ks) - np.mean(zp) * np.mean(ks)) / (np.mean(zp**2) - np.mean(zp)**2)\n",
    "print(b)"
   ]
  },
  {
   "cell_type": "code",
   "execution_count": 53,
   "metadata": {},
   "outputs": [
    {
     "name": "stdout",
     "output_type": "stream",
     "text": [
      "444.1773573243596\n"
     ]
    }
   ],
   "source": [
    "a = np.mean(ks)-b*np.mean(zp)\n",
    "print(a)"
   ]
  },
  {
   "cell_type": "code",
   "execution_count": 54,
   "metadata": {},
   "outputs": [
    {
     "name": "stdout",
     "output_type": "stream",
     "text": [
      "6470.414201176658\n"
     ]
    }
   ],
   "source": [
    "n=10\n",
    "mse_= ((ks-(a+b*zp))**2).sum()/n\n",
    "print(mse_)"
   ]
  },
  {
   "cell_type": "code",
   "execution_count": 56,
   "metadata": {},
   "outputs": [
    {
     "name": "stdout",
     "output_type": "stream",
     "text": [
      "[[444.17735732]\n",
      " [  2.62053888]]\n"
     ]
    }
   ],
   "source": [
    "zp = zp.reshape((n,1))\n",
    "ks = ks.reshape((n,1))\n",
    "X = np.hstack([np.ones((n,1)),zp])\n",
    "B = np.dot(np.linalg.inv(np.dot(X.T,X)),X.T@ks)\n",
    "print(B)"
   ]
  },
  {
   "cell_type": "code",
   "execution_count": 57,
   "metadata": {},
   "outputs": [
    {
     "data": {
      "text/plain": [
       "array([[5.88982042]])"
      ]
     },
     "execution_count": 57,
     "metadata": {},
     "output_type": "execute_result"
    }
   ],
   "source": [
    "# без interсept\n",
    "zp = zp.reshape(1, n)\n",
    "ks = ks.reshape(1, n)\n",
    "np.dot(np.dot(np.linalg.inv(np.dot(zp, zp.T)), zp), ks.T)"
   ]
  },
  {
   "cell_type": "code",
   "execution_count": 58,
   "metadata": {},
   "outputs": [
    {
     "name": "stdout",
     "output_type": "stream",
     "text": [
      "56516.85841571943\n"
     ]
    }
   ],
   "source": [
    "mse_= ((ks-(0+5.88982042*zp))**2).sum()/n\n",
    "print(mse_)"
   ]
  },
  {
   "cell_type": "code",
   "execution_count": 59,
   "metadata": {},
   "outputs": [],
   "source": [
    "# 2. Посчитать коэффициент линейной регрессии при заработной плате (zp), \n",
    "# используя градиентный спуск (без intercept).\n",
    "\n",
    "zp = np.array([35, 45, 190, 200, 40, 70, 54, 150, 120, 110])\n",
    "ks = np.array([401, 574, 874, 919, 459, 739, 653, 902, 746, 832])\n",
    "alpha = 1e-6\n",
    "B1 = 0.1"
   ]
  },
  {
   "cell_type": "code",
   "execution_count": 60,
   "metadata": {},
   "outputs": [],
   "source": [
    "def mse_(B1, y=ks, X=zp, n=10):\n",
    "    return np.sum((B1*X-y) ** 2) / n"
   ]
  },
  {
   "cell_type": "code",
   "execution_count": 76,
   "metadata": {},
   "outputs": [
    {
     "name": "stdout",
     "output_type": "stream",
     "text": [
      "Iteration: 0, B1=5.889820420132673, mse=56516.85841571943\n",
      "Iteration: 10, B1=5.889820420132673, mse=56516.85841571943\n",
      "Iteration: 20, B1=5.889820420132673, mse=56516.85841571943\n",
      "Iteration: 30, B1=5.889820420132673, mse=56516.85841571943\n",
      "Iteration: 40, B1=5.889820420132673, mse=56516.85841571943\n",
      "Iteration: 50, B1=5.889820420132673, mse=56516.85841571943\n",
      "Iteration: 60, B1=5.889820420132673, mse=56516.85841571943\n",
      "Iteration: 70, B1=5.889820420132673, mse=56516.85841571943\n",
      "Iteration: 80, B1=5.889820420132673, mse=56516.85841571943\n",
      "Iteration: 90, B1=5.889820420132673, mse=56516.85841571943\n"
     ]
    }
   ],
   "source": [
    "for i in range(100):\n",
    "    B1 -= alpha * (2 / n) * np.sum((B1*zp-ks)*zp)\n",
    "    if i%10==0:\n",
    "        print('Iteration: {i}, B1={B1}, mse={mse}'.format(i=i,B1=B1, mse=mse_(B1)))"
   ]
  },
  {
   "cell_type": "code",
   "execution_count": 77,
   "metadata": {},
   "outputs": [],
   "source": [
    "# *3. Произвести вычисления как в пункте 2, но с вычислением intercept. \n",
    "# Учесть, что изменение коэффициентов должно производиться на каждом шаге одновременно \n",
    "# (то есть изменение одного коэффициента не должно влиять на изменение другого \n",
    "# во время одной итерации).\n",
    "\n",
    "zp = np.array([35, 45, 190, 200, 40, 70, 54, 150, 120, 110])\n",
    "ks = np.array([401, 574, 874, 919, 459, 739, 653, 902, 746, 832])\n",
    "alpha = 1e-6\n",
    "B1 = 0.1\n",
    "B0 = 0.1"
   ]
  },
  {
   "cell_type": "code",
   "execution_count": 78,
   "metadata": {},
   "outputs": [],
   "source": [
    "def mse_with_intercept(B1,B0, y=ks, X=zp, n=10):\n",
    "    return np.sum(((B1 * X) + B0 - y) ** 2) / n"
   ]
  },
  {
   "cell_type": "code",
   "execution_count": 84,
   "metadata": {},
   "outputs": [
    {
     "name": "stdout",
     "output_type": "stream",
     "text": [
      "Iteration: 0, B1=5.887570660951345, B0=0.21373199427718695, mse=56468.71299869414\n",
      "Iteration: 10, B1=5.887733684114368, B0=0.21598551583347314, mse=56468.202521756946\n",
      "Iteration: 20, B1=5.88785292553471, B0=0.21823871258963806, mse=56467.693418736846\n",
      "Iteration: 30, B1=5.8879390580507955, B0=0.22049166093805778, mse=56467.18510326564\n",
      "Iteration: 40, B1=5.8880001527484875, B0=0.22274441864870426, mse=56466.67724010168\n",
      "Iteration: 50, B1=5.888042313198773, B0=0.22499702940878955, mse=56466.16963759522\n",
      "Iteration: 60, B1=5.888070155085276, B0=0.22724952625576583, mse=56465.6621861972\n",
      "Iteration: 70, B1=5.888087168911393, B0=0.22950193417345222, mse=56465.15482329775\n",
      "Iteration: 80, B1=5.888095994289151, B0=0.23175427205529509, mse=56464.64751312088\n",
      "Iteration: 90, B1=5.88809862736376, B0=0.23400655418903799, mse=56464.14023522932\n"
     ]
    }
   ],
   "source": [
    "for i in range(100):\n",
    "    B1 -= alpha * (2 / n) * np.sum(((B1*zp)+B0-ks)*zp)\n",
    "    B0 -= alpha * (2 / n) * np.sum((B1*zp)+B0-ks)\n",
    "    if i%10==0:\n",
    "        print('Iteration: {i}, B1={B1}, B0={B0}, mse={mse}'.format(i=i,B1=B1,B0=B0, mse=mse_with_intercept(B1,B0)))"
   ]
  },
  {
   "cell_type": "code",
   "execution_count": null,
   "metadata": {},
   "outputs": [],
   "source": []
  }
 ],
 "metadata": {
  "kernelspec": {
   "display_name": "Python 3",
   "language": "python",
   "name": "python3"
  },
  "language_info": {
   "codemirror_mode": {
    "name": "ipython",
    "version": 3
   },
   "file_extension": ".py",
   "mimetype": "text/x-python",
   "name": "python",
   "nbconvert_exporter": "python",
   "pygments_lexer": "ipython3",
   "version": "3.8.5"
  }
 },
 "nbformat": 4,
 "nbformat_minor": 4
}
