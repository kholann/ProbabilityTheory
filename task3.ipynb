{
 "cells": [
  {
   "cell_type": "code",
   "execution_count": 1,
   "metadata": {},
   "outputs": [],
   "source": [
    "import pandas as pd\n",
    "import numpy as np\n",
    "from math import factorial"
   ]
  },
  {
   "cell_type": "code",
   "execution_count": 7,
   "metadata": {},
   "outputs": [],
   "source": [
    "def combinations(n, k):\n",
    "    return int(factorial(n) / (factorial(k) * factorial(n - k)))"
   ]
  },
  {
   "cell_type": "code",
   "execution_count": 8,
   "metadata": {},
   "outputs": [
    {
     "name": "stdout",
     "output_type": "stream",
     "text": [
      "65.3\n"
     ]
    }
   ],
   "source": [
    "# 1. Даны значения зарплат из выборки выпускников: \n",
    "# 100, 80, 75, 77, 89, 33, 45, 25, 65, 17, 30, 24, 57, 55, 70, 75, 65, 84, 90, 150. \n",
    "# Посчитать (желательно без использования статистических методов наподобие std, var, mean) среднее арифметическое, \n",
    "#среднее квадратичное отклонение, смещенную и несмещенную оценки дисперсий для данной выборки.\n",
    "data = pd.Series([100, 80, 75, 77, 89, 33, 45, 25, 65, 17, 30, 24, 57, 55, 70, 75, 65, 84, 90, 150])\n",
    "# среднее арифметическое\n",
    "Mean = data.sum() / data.count()\n",
    "print(Mean)"
   ]
  },
  {
   "cell_type": "code",
   "execution_count": 3,
   "metadata": {},
   "outputs": [
    {
     "name": "stdout",
     "output_type": "stream",
     "text": [
      "30.823854398825596\n"
     ]
    }
   ],
   "source": [
    "# среднее квадратичное отклонение\n",
    "St_Dev = np.sqrt(((data - Mean) ** 2).sum() / data.count())\n",
    "print(St_Dev)"
   ]
  },
  {
   "cell_type": "code",
   "execution_count": 4,
   "metadata": {},
   "outputs": [
    {
     "name": "stdout",
     "output_type": "stream",
     "text": [
      "950.11\n"
     ]
    }
   ],
   "source": [
    "# смещенная оценка дисперсии\n",
    "Biased_variance_estimate = ((data - Mean) ** 2).sum() / data.count()\n",
    "print(Biased_variance_estimate)"
   ]
  },
  {
   "cell_type": "code",
   "execution_count": 6,
   "metadata": {},
   "outputs": [
    {
     "name": "stdout",
     "output_type": "stream",
     "text": [
      "1000.1157894736842\n"
     ]
    }
   ],
   "source": [
    "# несмещенная оценка дисперсии\n",
    "Unbiased_variance_estimate = ((data - Mean) ** 2).sum() / (data.count() - 1)\n",
    "print(Unbiased_variance_estimate)"
   ]
  },
  {
   "cell_type": "code",
   "execution_count": 9,
   "metadata": {},
   "outputs": [
    {
     "name": "stdout",
     "output_type": "stream",
     "text": [
      "0.3686868686868687\n"
     ]
    }
   ],
   "source": [
    "# 2. В первом ящике находится 8 мячей, из которых 5 - белые. \n",
    "# Во втором ящике - 12 мячей, из которых 5 белых. \n",
    "# Из первого ящика вытаскивают случайным образом два мяча, из второго - 4. \n",
    "# Какова вероятность того, что 3 мяча белые?\n",
    "# Получаем 3 случая: 1) из 1-го ящика вытаскивают 2 белых мяча, из 2-го ящика вытаскивают 1 белый и 3 других мяча\n",
    "# 2) из 1-го ящика вытаскивают 1 белый и 1 другой мяч, из 2-го ящика вытаскивают 2 белых и 2 других мяча\n",
    "# 3) из 1-го ящика вытаскивают 0 белых и 2 других мяча, из 2-го ящика вытаскивают 3 белых и 1 другой мяч\n",
    "# Вероятность считаем через сочетания\n",
    "# Для 1-го случая: P_1 = C^2_5/C^2_8 * C^1_5*C^3_7/C^4_12\n",
    "# Для 2-го случая: P_2 = C^1_5*C^1_3/C^2_8 * C^2_5*C^2_7/C^4_12\n",
    "# Для 3-го случая: P_3 = C^2_3/C^2_8 * C^3_5*C^1_7/C^4_12\n",
    "P_1 = (combinations(5, 2)/combinations(8, 2)) * (combinations(5, 1)*combinations(7, 3)/combinations(12, 4))\n",
    "P_2 = (combinations(5, 1)*combinations(3, 1)/combinations(8, 2)) * (combinations(5, 2)*combinations(7, 2)/combinations(12, 4))\n",
    "P_3 = combinations(3, 2)/combinations(8, 2) * (combinations(5, 3)*combinations(7, 1)/combinations(12, 4))\n",
    "P=P_1+P_2+P_3\n",
    "print(P)"
   ]
  },
  {
   "cell_type": "code",
   "execution_count": 11,
   "metadata": {},
   "outputs": [
    {
     "name": "stdout",
     "output_type": "stream",
     "text": [
      "0.7666666666666666\n"
     ]
    }
   ],
   "source": [
    "# 3. На соревновании по биатлону один из трех спортсменов стреляет и попадает в мишень. \n",
    "# Вероятность попадания для первого спортсмена равна 0.9, для второго — 0.8, для третьего — 0.6. \n",
    "# Найти вероятность того, что выстрел произведен: \n",
    "# a). первым спортсменом \n",
    "# б). вторым спортсменом \n",
    "# в). третьим спортсменом.\n",
    "# P - вероятность попадания в мишень\n",
    "P=(1/3)*0.9 +(1/3)*0.8+(1/3)*0.6\n",
    "print(P)"
   ]
  },
  {
   "cell_type": "code",
   "execution_count": 12,
   "metadata": {},
   "outputs": [
    {
     "name": "stdout",
     "output_type": "stream",
     "text": [
      "0.391304347826087\n"
     ]
    }
   ],
   "source": [
    "# a). первым спортсменом\n",
    "P_1=(1/3)*0.9/P\n",
    "print(P_1)"
   ]
  },
  {
   "cell_type": "code",
   "execution_count": 13,
   "metadata": {},
   "outputs": [
    {
     "name": "stdout",
     "output_type": "stream",
     "text": [
      "0.3478260869565218\n"
     ]
    }
   ],
   "source": [
    "# б). вторым спортсменом \n",
    "P_2=(1/3)*0.8/P\n",
    "print(P_2)"
   ]
  },
  {
   "cell_type": "code",
   "execution_count": 14,
   "metadata": {},
   "outputs": [
    {
     "name": "stdout",
     "output_type": "stream",
     "text": [
      "0.2608695652173913\n"
     ]
    }
   ],
   "source": [
    "# в). третьим спортсменом.\n",
    "P_3=(1/3)*0.6/P\n",
    "print(P_3)"
   ]
  },
  {
   "cell_type": "code",
   "execution_count": 15,
   "metadata": {},
   "outputs": [
    {
     "name": "stdout",
     "output_type": "stream",
     "text": [
      "0.825\n"
     ]
    }
   ],
   "source": [
    "# 4. В университет на факультеты A и B поступило равное количество студентов, а на факультет C студентов \n",
    "# поступило столько же, сколько на A и B вместе. \n",
    "# Вероятность того, что студент факультета A сдаст первую сессию, равна 0.8. \n",
    "# Для студента факультета B эта вероятность равна 0.7, а для студента факультета C - 0.9. \n",
    "# Студент сдал первую сессию. Какова вероятность, что он учится: \n",
    "# a). на факультете A \n",
    "# б). на факультете B \n",
    "# в). на факультете C?\n",
    "# P - вероятность того, что некий студент сдал первую сессию\n",
    "P=(1/4)*0.8+(1/4)*0.7+(2/4)*0.9\n",
    "print(P)"
   ]
  },
  {
   "cell_type": "code",
   "execution_count": 16,
   "metadata": {},
   "outputs": [
    {
     "name": "stdout",
     "output_type": "stream",
     "text": [
      "0.24242424242424246\n"
     ]
    }
   ],
   "source": [
    "# a). на факультете A\n",
    "P_A=(1/4)*0.8/P\n",
    "print(P_A)"
   ]
  },
  {
   "cell_type": "code",
   "execution_count": 17,
   "metadata": {},
   "outputs": [
    {
     "name": "stdout",
     "output_type": "stream",
     "text": [
      "0.21212121212121213\n"
     ]
    }
   ],
   "source": [
    "# б). на факультете B\n",
    "P_B=(1/4)*0.7/P\n",
    "print(P_B)"
   ]
  },
  {
   "cell_type": "code",
   "execution_count": 18,
   "metadata": {},
   "outputs": [
    {
     "name": "stdout",
     "output_type": "stream",
     "text": [
      "0.5454545454545455\n"
     ]
    }
   ],
   "source": [
    "# в). на факультете C?\n",
    "P_C=(2/4)*0.9/P\n",
    "print(P_C)"
   ]
  },
  {
   "cell_type": "code",
   "execution_count": 19,
   "metadata": {},
   "outputs": [
    {
     "name": "stdout",
     "output_type": "stream",
     "text": [
      "0.005000000000000001\n"
     ]
    }
   ],
   "source": [
    "# 5. Устройство состоит из трех деталей. Для первой детали вероятность выйти из строя в первый месяц равна 0.1, \n",
    "# для второй - 0.2, для третьей - 0.25. Какова вероятность того, что в первый месяц выйдут из строя:\n",
    "# а). все детали \n",
    "# б). только две детали \n",
    "# в). хотя бы одна деталь \n",
    "# г). от одной до двух деталей?\n",
    "\n",
    "# а). все детали \n",
    "P_a=0.1*0.2*0.25\n",
    "print(P_a)"
   ]
  },
  {
   "cell_type": "code",
   "execution_count": 20,
   "metadata": {},
   "outputs": [
    {
     "name": "stdout",
     "output_type": "stream",
     "text": [
      "0.08000000000000002\n"
     ]
    }
   ],
   "source": [
    "# б). только две детали \n",
    "# 3 случая: 1) 1 и 2 вышли из строя, 3 - нет; 2) 1 и 3 вышли из строя, 2 - нет; 3) 2 и 3 вышли из строя, 1 - нет\n",
    "p_1=0.1*0.2*(1-0.25)\n",
    "p_2=0.1*0.25*(1-0.2)\n",
    "p_3=0.2*0.25*(1-0.1)\n",
    "P_b=p_1+p_2+p_3\n",
    "print(P_b)"
   ]
  },
  {
   "cell_type": "code",
   "execution_count": 21,
   "metadata": {},
   "outputs": [
    {
     "name": "stdout",
     "output_type": "stream",
     "text": [
      "0.45999999999999996\n"
     ]
    }
   ],
   "source": [
    "# в). хотя бы одна деталь \n",
    "# q - вероятность того, что в первый месяц не выйдет из строя ни одной детали, тогда P_c=1-q\n",
    "P_c=1-(1-0.1)*(1-0.2)*(1-0.25)\n",
    "print(P_c)"
   ]
  },
  {
   "cell_type": "code",
   "execution_count": 24,
   "metadata": {},
   "outputs": [
    {
     "name": "stdout",
     "output_type": "stream",
     "text": [
      "0.375\n",
      "0.455\n"
     ]
    }
   ],
   "source": [
    "# г). от одной до двух деталей\n",
    "# вышла из строя 1 деталь: 3 случая\n",
    "p_1=0.1*(1-0.2)*(1-0.25)\n",
    "p_2=(1-0.1)*0.2*(1-0.25)\n",
    "p_3=(1-0.1)*(1-0.2)*0.25\n",
    "P_1=p_1+p_2+p_3\n",
    "print(P_1)\n",
    "# вышли из строя 2 детали - случай б) P_b\n",
    "# тогда вероятность того, что вышла из строя от одной до двух деталей P_d = P_1 + P_b\n",
    "P_d = P_1 +P_b\n",
    "print(P_d)"
   ]
  },
  {
   "cell_type": "code",
   "execution_count": null,
   "metadata": {},
   "outputs": [],
   "source": []
  }
 ],
 "metadata": {
  "kernelspec": {
   "display_name": "Python 3",
   "language": "python",
   "name": "python3"
  },
  "language_info": {
   "codemirror_mode": {
    "name": "ipython",
    "version": 3
   },
   "file_extension": ".py",
   "mimetype": "text/x-python",
   "name": "python",
   "nbconvert_exporter": "python",
   "pygments_lexer": "ipython3",
   "version": "3.8.5"
  }
 },
 "nbformat": 4,
 "nbformat_minor": 4
}
