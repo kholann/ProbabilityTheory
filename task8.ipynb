{
 "cells": [
  {
   "cell_type": "code",
   "execution_count": 31,
   "metadata": {},
   "outputs": [],
   "source": [
    "import numpy as np\n",
    "from scipy import stats"
   ]
  },
  {
   "cell_type": "code",
   "execution_count": 32,
   "metadata": {},
   "outputs": [
    {
     "name": "stdout",
     "output_type": "stream",
     "text": [
      "179.125\n"
     ]
    }
   ],
   "source": [
    "# 1. Провести дисперсионный анализ для определения того, есть ли различия среднего роста среди взрослых футболистов,\n",
    "# хоккеистов и штангистов. Даны значения роста в трех группах случайно выбранных спортсменов: \n",
    "# Футболисты: 173, 175, 180, 178, 177, 185, 183, 182. \n",
    "# Хоккеисты: 177, 179, 180, 188, 177, 172, 171, 184, 180. \n",
    "# Штангисты: 172, 173, 169, 177, 166, 180, 178, 177, 172, 166, 170.\n",
    "\n",
    "footballers = np.array([173, 175, 180, 178, 177, 185, 183, 182])\n",
    "hockey_players = np.array([177, 179, 180, 188, 177, 172, 171, 184, 180])\n",
    "weightlifters = np.array([172, 173, 169, 177, 166, 180, 178, 177, 172, 166, 170])\n",
    "\n",
    "# средний рост футболистов\n",
    "footballers_mean = footballers.mean()\n",
    "print(footballers_mean)"
   ]
  },
  {
   "cell_type": "code",
   "execution_count": 33,
   "metadata": {},
   "outputs": [
    {
     "name": "stdout",
     "output_type": "stream",
     "text": [
      "178.66666666666666\n"
     ]
    }
   ],
   "source": [
    "# средний рост хоккеистов\n",
    "hockey_players_mean = hockey_players.mean()\n",
    "print(hockey_players_mean)"
   ]
  },
  {
   "cell_type": "code",
   "execution_count": 34,
   "metadata": {},
   "outputs": [
    {
     "name": "stdout",
     "output_type": "stream",
     "text": [
      "172.72727272727272\n"
     ]
    }
   ],
   "source": [
    "# средний рост штангистов\n",
    "weightlifters_mean = weightlifters.mean()\n",
    "print(weightlifters_mean)"
   ]
  },
  {
   "cell_type": "code",
   "execution_count": 35,
   "metadata": {},
   "outputs": [
    {
     "name": "stdout",
     "output_type": "stream",
     "text": [
      "176.46428571428572\n"
     ]
    }
   ],
   "source": [
    "# средний рост по всем трем группам\n",
    "height = np.hstack((footballers,hockey_players, weightlifters))\n",
    "height_mean = height.mean()\n",
    "print(height_mean)"
   ]
  },
  {
   "cell_type": "code",
   "execution_count": 36,
   "metadata": {},
   "outputs": [
    {
     "name": "stdout",
     "output_type": "stream",
     "text": [
      "830.9642857142854\n"
     ]
    }
   ],
   "source": [
    "# сумма квадратов отклонений наблюдений от общего среднего\n",
    "S2 = np.sum((height - height_mean) ** 2)\n",
    "print(S2)"
   ]
  },
  {
   "cell_type": "code",
   "execution_count": 37,
   "metadata": {},
   "outputs": [
    {
     "name": "stdout",
     "output_type": "stream",
     "text": [
      "253.9074675324678\n"
     ]
    }
   ],
   "source": [
    "# сумма квадратов отклонений средних групповых значений от общего среднего значения\n",
    "f = (footballers_mean - height_mean) ** 2 * len(footballers)\n",
    "h = (hockey_players_mean - height_mean) ** 2 * len(hockey_players)\n",
    "w = (weightlifters_mean - height_mean) ** 2 * len(weightlifters)\n",
    "S2f = f + h + w\n",
    "print(S2f)"
   ]
  },
  {
   "cell_type": "code",
   "execution_count": 38,
   "metadata": {},
   "outputs": [
    {
     "name": "stdout",
     "output_type": "stream",
     "text": [
      "577.0568181818182\n"
     ]
    }
   ],
   "source": [
    "# остаточная сумма квадратов отклонений\n",
    "f_ost = np.sum((footballers - footballers_mean) ** 2)\n",
    "h_ost = np.sum((hockey_players - hockey_players_mean) ** 2)\n",
    "w_ost = np.sum((weightlifters - weightlifters_mean) ** 2)\n",
    "S2_ost = f_ost + h_ost + w_ost\n",
    "print(S2_ost)"
   ]
  },
  {
   "cell_type": "code",
   "execution_count": 39,
   "metadata": {},
   "outputs": [
    {
     "name": "stdout",
     "output_type": "stream",
     "text": [
      "830.964285714286\n"
     ]
    }
   ],
   "source": [
    "S2 = S2f + S2_ost\n",
    "print(S2)"
   ]
  },
  {
   "cell_type": "code",
   "execution_count": 40,
   "metadata": {},
   "outputs": [
    {
     "name": "stdout",
     "output_type": "stream",
     "text": [
      "126.9537337662339\n"
     ]
    }
   ],
   "source": [
    "# факторная дисперсия\n",
    "s2_factor = S2f / (3 - 1)\n",
    "print(s2_factor)"
   ]
  },
  {
   "cell_type": "code",
   "execution_count": 41,
   "metadata": {},
   "outputs": [
    {
     "name": "stdout",
     "output_type": "stream",
     "text": [
      "23.08227272727273\n"
     ]
    }
   ],
   "source": [
    "# остаточная дисперсия\n",
    "s2_ost = S2_ost / (len(height) - 3)\n",
    "print(s2_ost)"
   ]
  },
  {
   "cell_type": "code",
   "execution_count": 42,
   "metadata": {},
   "outputs": [
    {
     "name": "stdout",
     "output_type": "stream",
     "text": [
      "5.500053450812598\n"
     ]
    }
   ],
   "source": [
    "F_H = s2_factor / s2_ost\n",
    "print(F_H)"
   ]
  },
  {
   "cell_type": "code",
   "execution_count": 43,
   "metadata": {},
   "outputs": [
    {
     "name": "stdout",
     "output_type": "stream",
     "text": [
      "2 25\n"
     ]
    }
   ],
   "source": [
    "# значение F_крит в таблице критических точек распредления Фишера-Снедекора для\n",
    "# заданного уровня значимости alpha = 0.05 и двух степеней свободы\n",
    "alpha = 0.05\n",
    "df_межд = 3 - 1\n",
    "df_внутр = len(height) - 3\n",
    "print(df_межд,df_внутр)"
   ]
  },
  {
   "cell_type": "code",
   "execution_count": 44,
   "metadata": {},
   "outputs": [
    {
     "data": {
      "text/plain": [
       "True"
      ]
     },
     "execution_count": 44,
     "metadata": {},
     "output_type": "execute_result"
    }
   ],
   "source": [
    "F_крит = 3.38\n",
    "\n",
    "F_H > F_крит"
   ]
  },
  {
   "cell_type": "code",
   "execution_count": 45,
   "metadata": {},
   "outputs": [],
   "source": [
    "# Следовательно, различие между группами статистически значимое, т.е. есть различия среднего роста \n",
    "# среди взрослых футболистов, хоккеистов и штангистов."
   ]
  },
  {
   "cell_type": "code",
   "execution_count": 47,
   "metadata": {},
   "outputs": [
    {
     "data": {
      "text/plain": [
       "F_onewayResult(statistic=5.500053450812596, pvalue=0.010482206918698694)"
      ]
     },
     "execution_count": 47,
     "metadata": {},
     "output_type": "execute_result"
    }
   ],
   "source": [
    "stats.f_oneway(footballers,hockey_players,weightlifters)"
   ]
  },
  {
   "cell_type": "code",
   "execution_count": null,
   "metadata": {},
   "outputs": [],
   "source": []
  }
 ],
 "metadata": {
  "kernelspec": {
   "display_name": "Python 3",
   "language": "python",
   "name": "python3"
  },
  "language_info": {
   "codemirror_mode": {
    "name": "ipython",
    "version": 3
   },
   "file_extension": ".py",
   "mimetype": "text/x-python",
   "name": "python",
   "nbconvert_exporter": "python",
   "pygments_lexer": "ipython3",
   "version": "3.8.5"
  }
 },
 "nbformat": 4,
 "nbformat_minor": 4
}
