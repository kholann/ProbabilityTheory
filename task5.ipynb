{
 "cells": [
  {
   "cell_type": "code",
   "execution_count": 18,
   "metadata": {},
   "outputs": [],
   "source": [
    "import numpy as np\n",
    "from statsmodels.stats.weightstats import _tconfint_generic"
   ]
  },
  {
   "cell_type": "code",
   "execution_count": 26,
   "metadata": {},
   "outputs": [
    {
     "data": {
      "text/plain": [
       "(79.96922952234611, 80.03077047765389)"
      ]
     },
     "execution_count": 26,
     "metadata": {},
     "output_type": "execute_result"
    }
   ],
   "source": [
    "# 1. Известно, что генеральная совокупность распределена нормально со средним квадратическим отклонением, равным 16.\n",
    "# Найти доверительный интервал для оценки математического ожидания с надежностью 0.95,\n",
    "# если выборочная средняя M = 80, а объем выборки n = 256.\n",
    "\n",
    "# Воспользуемcя statsmodels.stats.weightstats._tconfint_generic(mean, std_mean, dof, alpha, alternative)\n",
    "std_mean = np.sqrt(16) / 256\n",
    "_tconfint_generic(80, std_mean,256 - 1, 1-0.95, 'two-sided')"
   ]
  },
  {
   "cell_type": "code",
   "execution_count": 28,
   "metadata": {},
   "outputs": [
    {
     "data": {
      "text/plain": [
       "(6.267515851415713, 6.912484148584288)"
      ]
     },
     "execution_count": 28,
     "metadata": {},
     "output_type": "execute_result"
    }
   ],
   "source": [
    "# 2. В результате 10 независимых измерений некоторой величины X, выполненных с одинаковой точностью, \n",
    "# получены опытные данные: 6.9, 6.1, 6.2, 6.8, 7.5, 6.3, 6.4, 6.9, 6.7, 6.1 Предполагая, что результаты \n",
    "# измерений подчинены нормальному закону распределения вероятностей, оценить истинное значение величины X \n",
    "# при помощи доверительного интервала, покрывающего это значение с доверительной вероятностью 0,95.\n",
    "\n",
    "X = np.array([6.9, 6.1, 6.2, 6.8, 7.5, 6.3, 6.4, 6.9, 6.7, 6.1])\n",
    "mean_X = X.mean()\n",
    "std_X = X.std(ddof=1)\n",
    "mean_std_X = std_X / (np.sqrt(len(X)))\n",
    "\n",
    "# Воспользуемcя statsmodels.stats.weightstats._tconfint_generic(mean, std_mean, dof, alpha, alternative)\n",
    "_tconfint_generic(mean_X, mean_std_X,len(X) - 1,1- 0.95, 'two-sided')"
   ]
  },
  {
   "cell_type": "code",
   "execution_count": 21,
   "metadata": {},
   "outputs": [
    {
     "name": "stdout",
     "output_type": "stream",
     "text": [
      "1.25\n"
     ]
    }
   ],
   "source": [
    "# 3. Утверждается, что шарики для подшипников, изготовленные автоматическим станком, имеют средний диаметр 17 мм. \n",
    "# Используя односторонний критерий с α=0,05, проверить эту гипотезу, если в выборке из n=100 шариков \n",
    "# средний диаметр оказался равным 17.5 мм, а дисперсия известна и равна 4 кв.мм.\n",
    "# Нулевая гипотеза: H_0 : µ = 17. Альтернативная гипотеза (односторонняя) H_1: µ > 17\n",
    "#Вычисляем наблюдаемое значение критерия U_набл=(X_ср-µ)/sigma*np.sqrt(n)\n",
    "U_набл = (17.5 - 17) / 4 * np.sqrt(100)\n",
    "print(U_набл)"
   ]
  },
  {
   "cell_type": "code",
   "execution_count": 29,
   "metadata": {},
   "outputs": [
    {
     "name": "stdout",
     "output_type": "stream",
     "text": [
      "0.45\n"
     ]
    }
   ],
   "source": [
    "# По таблице функции Лапласа найдем критическую точку для односторонней критической\n",
    "# области (при гипотезе H_1 : µ > 17) по уровню значимости α = 0,05 : Ф_кр=(1-2*α)/2\n",
    "Ф_кр=(1-2*0.05)/2\n",
    "print(Ф_кр)"
   ]
  },
  {
   "cell_type": "code",
   "execution_count": 30,
   "metadata": {},
   "outputs": [],
   "source": [
    "# откуда u_кр ≈ 1,645\n",
    "# Так как U_набл = 1.25 < 1.645 = u_кр, то нулевую гипотезу можно принять, можно считать что\n",
    "# средний диаметр действительно = 17 мм."
   ]
  },
  {
   "cell_type": "code",
   "execution_count": 24,
   "metadata": {},
   "outputs": [
    {
     "name": "stdout",
     "output_type": "stream",
     "text": [
      "-1.0651074037450896\n"
     ]
    }
   ],
   "source": [
    "# 4. Продавец утверждает, что средний вес пачки печенья составляет 200 г. Из партии извлечена выборка из 10 пачек.\n",
    "# Вес каждой пачки составляет:\n",
    "# 202, 203, 199, 197, 195, 201, 200, 204, 194, 190. Известно,\n",
    "# что их веса распределены нормально.\n",
    "# Верно ли утверждение продавца, если учитывать, что доверительная вероятность равна 99%?\n",
    "# Нулевая гипотеза: H_0 : µ = 200. Альтернативная гипотеза (односторонняя) H_1: µ != 200\n",
    "X = np.array([202, 203, 199, 197, 195, 201, 200, 204, 194, 190])\n",
    "mean_X = X.mean()\n",
    "std_X = X.std(ddof=1)\n",
    "#Вычисляем наблюдаемое значение критерия T_набл=(mean_X-µ)/std_X*np.sqrt(n)\n",
    "T_набл=(mean_X-200)/std_X*np.sqrt(10)\n",
    "print(T_набл)"
   ]
  },
  {
   "cell_type": "code",
   "execution_count": 31,
   "metadata": {},
   "outputs": [],
   "source": [
    "# По таблице критических точек распределения Стьюдента найдем критическую точку по\n",
    "# уровню значимости α = (100-99)/100=0.01 и числу степеней свободы k = 9 , откуда t_kp ≈ 3.25. \n",
    "# Так как abs(T_набл) ≈ 1,065 < 3,25 = t_kp, то нулевую гипотезу о равенстве среднего веса 200 г\n",
    "# можно принять."
   ]
  },
  {
   "cell_type": "code",
   "execution_count": null,
   "metadata": {},
   "outputs": [],
   "source": []
  }
 ],
 "metadata": {
  "kernelspec": {
   "display_name": "Python 3",
   "language": "python",
   "name": "python3"
  },
  "language_info": {
   "codemirror_mode": {
    "name": "ipython",
    "version": 3
   },
   "file_extension": ".py",
   "mimetype": "text/x-python",
   "name": "python",
   "nbconvert_exporter": "python",
   "pygments_lexer": "ipython3",
   "version": "3.8.5"
  }
 },
 "nbformat": 4,
 "nbformat_minor": 4
}
