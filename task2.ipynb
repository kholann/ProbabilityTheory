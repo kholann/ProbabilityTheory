{
 "cells": [
  {
   "cell_type": "code",
   "execution_count": 6,
   "metadata": {},
   "outputs": [],
   "source": [
    "from math import factorial\n",
    "import numpy as np"
   ]
  },
  {
   "cell_type": "code",
   "execution_count": 7,
   "metadata": {},
   "outputs": [],
   "source": [
    "def combinations(n, k):\n",
    "    return int(factorial(n) / (factorial(k) * factorial(n - k)))"
   ]
  },
  {
   "cell_type": "code",
   "execution_count": 8,
   "metadata": {},
   "outputs": [
    {
     "name": "stdout",
     "output_type": "stream",
     "text": [
      "0.048061793700746355\n"
     ]
    }
   ],
   "source": [
    "# 1. Вероятность того, что стрелок попадет в мишень, выстрелив один раз, равна 0.8. \n",
    "# Стрелок выстрелил 100 раз. Найдите вероятность того, что стрелок попадет в цель ровно 85 раз.\n",
    "# Используем формулу для биномиального распределения\n",
    "# P_n(X=k) = C^k_n*p^k*q^(n-k)\n",
    "n=100\n",
    "k=85\n",
    "p=0.8\n",
    "q=1-p\n",
    "P = combinations(n, k)*p**k*q**(n-k)\n",
    "print(P)"
   ]
  },
  {
   "cell_type": "code",
   "execution_count": 10,
   "metadata": {},
   "outputs": [
    {
     "name": "stdout",
     "output_type": "stream",
     "text": [
      "0.1353352832366127\n",
      "0.2706705664732254\n"
     ]
    }
   ],
   "source": [
    "# 2. Вероятность того, что лампочка перегорит в течение первого дня эксплуатации, равна 0.0004. \n",
    "# В жилом комплексе после ремонта в один день включили 5000 новых лампочек. \n",
    "# Какова вероятность, что ни одна из них не перегорит в первый день?\n",
    "# Используем формулу распределения Пуассона, так как p<0.1\n",
    "# P_m ~ lambda^m/m!*e^(-lambda)\n",
    "m=0\n",
    "p=0.0004\n",
    "n=5000\n",
    "lambda_=p*n\n",
    "P = (lambda_**m / factorial(m)) * np.exp(-lambda_)\n",
    "print(P)\n",
    "# Какова вероятность, что перегорят ровно две?\n",
    "m=2\n",
    "P = (lambda_**m / factorial(m)) * np.exp(-lambda_)\n",
    "print(P)"
   ]
  },
  {
   "cell_type": "code",
   "execution_count": 11,
   "metadata": {},
   "outputs": [
    {
     "name": "stdout",
     "output_type": "stream",
     "text": [
      "0.06281178035144776\n"
     ]
    }
   ],
   "source": [
    "# 3. Монету подбросили 144 раза. Какова вероятность, что орел выпадет ровно 70 раз?\n",
    "# Используем формулу для биномиального распределения\n",
    "# P_n(X=k) = C^k_n*p^k*q^(n-k)\n",
    "n=144\n",
    "k=70\n",
    "p=0.5\n",
    "q=1-p\n",
    "P = combinations(n, k)*p**k*q**(n-k)\n",
    "print(P)"
   ]
  },
  {
   "cell_type": "code",
   "execution_count": 12,
   "metadata": {},
   "outputs": [
    {
     "name": "stdout",
     "output_type": "stream",
     "text": [
      "0.3054545454545455\n"
     ]
    }
   ],
   "source": [
    "# 4. В первом ящике находится 10 мячей, из которых 7 - белые. \n",
    "# Во втором ящике - 11 мячей, из которых 9 белых. Из каждого ящика вытаскивают случайным образом по два мяча. \n",
    "# Какова вероятность того, что все мячи белые?\n",
    "# Используем сочетания, P_1 = C^2_7/C^2_10 P_2 = C^2_9/C^2_11 P=P_1*P_2\n",
    "P_1=combinations(7, 2)/combinations(10, 2)\n",
    "P_2=combinations(9, 2)/combinations(11, 2)\n",
    "P=P_1*P_2\n",
    "print(P)"
   ]
  },
  {
   "cell_type": "code",
   "execution_count": 13,
   "metadata": {},
   "outputs": [
    {
     "name": "stdout",
     "output_type": "stream",
     "text": [
      "0.20484848484848486\n"
     ]
    }
   ],
   "source": [
    "# Какова вероятность того, что ровно два мяча белые?\n",
    "# Может быть 3 случая: 1) из 1 ящика вытаскиваем 2 белых мяча, тогда из 2 ящика вытаскиваем 2 черных; \n",
    "# 2) из 1 ящика вытаскиваем 1 белый и 1 черный мячи, тогда из 2 ящика вытаскиваем 1 белый и 1 черный мячи;\n",
    "# 3) из 1 ящика вытаскиваем 2 черных мяча, тогда из 2 ящика вытаскиваем 2 белых;\n",
    "P_1=(combinations(7, 2)/combinations(10, 2))*(combinations(2, 2)/combinations(11, 2))\n",
    "P_2=(combinations(7, 1)*combinations(3, 1)/combinations(10, 2))*(combinations(9, 1)*combinations(2, 1)/combinations(11, 2))\n",
    "P_3=(combinations(3, 2)/combinations(10, 2))*(combinations(9, 2)/combinations(11, 2))\n",
    "P=P_1+P_2+P_3\n",
    "print(P)"
   ]
  },
  {
   "cell_type": "code",
   "execution_count": 14,
   "metadata": {},
   "outputs": [
    {
     "name": "stdout",
     "output_type": "stream",
     "text": [
      "0.9987878787878788\n"
     ]
    }
   ],
   "source": [
    "# Какова вероятность того, что хотя бы один мяч белый?\n",
    "# Найдем вероятность q того, что ни одного мяча белого, то есть все мячи черные, \n",
    "# тогда 1-q - вероятность того, что хотя бы один мяч белый\n",
    "# Используем сочетания, Q_1 = C^2_3/C^2_10 Q_2 = C^2_2/C^2_11 q=Q_1*Q_2\n",
    "Q_1=combinations(3, 2)/combinations(10, 2)\n",
    "Q_2=combinations(2, 2)/combinations(11, 2)\n",
    "q=Q_1*Q_2\n",
    "P=1-q\n",
    "print(P)"
   ]
  },
  {
   "cell_type": "code",
   "execution_count": null,
   "metadata": {},
   "outputs": [],
   "source": []
  }
 ],
 "metadata": {
  "kernelspec": {
   "display_name": "Python 3",
   "language": "python",
   "name": "python3"
  },
  "language_info": {
   "codemirror_mode": {
    "name": "ipython",
    "version": 3
   },
   "file_extension": ".py",
   "mimetype": "text/x-python",
   "name": "python",
   "nbconvert_exporter": "python",
   "pygments_lexer": "ipython3",
   "version": "3.8.5"
  }
 },
 "nbformat": 4,
 "nbformat_minor": 4
}
